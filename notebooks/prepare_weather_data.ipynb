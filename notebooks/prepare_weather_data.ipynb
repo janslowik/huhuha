{
 "cells": [
  {
   "cell_type": "code",
   "execution_count": 1,
   "metadata": {},
   "outputs": [],
   "source": [
    "%load_ext autoreload\n",
    "%autoreload 2\n",
    "\n",
    "import sys\n",
    "sys.path.append('../')\n",
    "\n",
    "import math\n",
    "from typing import Any, Dict, List, Optional\n",
    "\n",
    "import rasterio\n",
    "import contextily\n",
    "import geopandas\n",
    "import haversine as hs\n",
    "import matplotlib.pyplot as plt\n",
    "import numpy as np\n",
    "import pandas as pd\n",
    "import seaborn as sns\n",
    "import requests\n",
    "from tqdm.notebook import tqdm\n",
    "\n",
    "from huhuha.settings import RAW_DATA_DIR, DATA_DIR\n",
    "from huhuha.ops_tiles import get_otm_tile\n",
    "from huhuha.utils import get_elevation, random_float\n",
    "import datetime\n",
    "tqdm.pandas()\n",
    "sns.set_theme(style='whitegrid')"
   ]
  },
  {
   "cell_type": "code",
   "execution_count": 2,
   "metadata": {},
   "outputs": [],
   "source": [
    "# PEAK = 'Dent Parrachée'\n",
    "# WEATHER_CSV = '45_29__6_76__K.csv'\n",
    "# PEAK_NUMBER = 'peak_1'\n",
    "\n",
    "PEAK = 'La Norma'\n",
    "WEATHER_CSV = '45_18__6_72__K.csv'\n",
    "PEAK_NUMBER = 'peak_2'"
   ]
  },
  {
   "cell_type": "code",
   "execution_count": 3,
   "metadata": {},
   "outputs": [],
   "source": [
    "avalnache_data_path =  RAW_DATA_DIR / 'data-avalanche.csv'\n",
    "df = pd.read_csv(avalnache_data_path)\n",
    "summits = [\n",
    "    PEAK\n",
    "    # 'Dent Parrachée',\n",
    "    # # 'Punta Bagna',\n",
    "    # 'La Norma',\n",
    "]\n",
    "\n",
    "# ograniczam zbior tylko do danych z z wybranych masywow i lat dla ktorych mam dane pogodowe\n",
    "df = df[df['sommet'].isin(summits)]\n",
    "\n",
    "\n",
    "# usuwam wiersze z brakiem informacji o masywach\n",
    "df = df.dropna(subset=['massif'])\n",
    "\n",
    "# usuwam wiersze z brakiem informacji o lokalizacji geograficznej\n",
    "df = df.dropna(subset=['latitude', 'longitude'])\n",
    "df = df.drop(df[(df.latitude == 0.0) | (df.longitude == 0.0)].index)\n",
    "df = df[['id', 'sommet', 'date']]\n"
   ]
  },
  {
   "cell_type": "code",
   "execution_count": 4,
   "metadata": {},
   "outputs": [
    {
     "data": {
      "text/html": [
       "<div>\n",
       "<style scoped>\n",
       "    .dataframe tbody tr th:only-of-type {\n",
       "        vertical-align: middle;\n",
       "    }\n",
       "\n",
       "    .dataframe tbody tr th {\n",
       "        vertical-align: top;\n",
       "    }\n",
       "\n",
       "    .dataframe thead th {\n",
       "        text-align: right;\n",
       "    }\n",
       "</style>\n",
       "<table border=\"1\" class=\"dataframe\">\n",
       "  <thead>\n",
       "    <tr style=\"text-align: right;\">\n",
       "      <th></th>\n",
       "      <th>id</th>\n",
       "      <th>sommet</th>\n",
       "      <th>date</th>\n",
       "    </tr>\n",
       "  </thead>\n",
       "  <tbody>\n",
       "    <tr>\n",
       "      <th>91</th>\n",
       "      <td>1639300068475</td>\n",
       "      <td>La Norma</td>\n",
       "      <td>1639177200000</td>\n",
       "    </tr>\n",
       "    <tr>\n",
       "      <th>239</th>\n",
       "      <td>1617554382779</td>\n",
       "      <td>La Norma</td>\n",
       "      <td>1617487200000</td>\n",
       "    </tr>\n",
       "    <tr>\n",
       "      <th>290</th>\n",
       "      <td>1616661015022</td>\n",
       "      <td>La Norma</td>\n",
       "      <td>1616454000000</td>\n",
       "    </tr>\n",
       "    <tr>\n",
       "      <th>331</th>\n",
       "      <td>1616184796178</td>\n",
       "      <td>La Norma</td>\n",
       "      <td>1616108400000</td>\n",
       "    </tr>\n",
       "    <tr>\n",
       "      <th>338</th>\n",
       "      <td>1616140698621</td>\n",
       "      <td>La Norma</td>\n",
       "      <td>1616108400000</td>\n",
       "    </tr>\n",
       "  </tbody>\n",
       "</table>\n",
       "</div>"
      ],
      "text/plain": [
       "                id    sommet           date\n",
       "91   1639300068475  La Norma  1639177200000\n",
       "239  1617554382779  La Norma  1617487200000\n",
       "290  1616661015022  La Norma  1616454000000\n",
       "331  1616184796178  La Norma  1616108400000\n",
       "338  1616140698621  La Norma  1616108400000"
      ]
     },
     "execution_count": 4,
     "metadata": {},
     "output_type": "execute_result"
    }
   ],
   "source": [
    "df.head()"
   ]
  },
  {
   "cell_type": "code",
   "execution_count": 5,
   "metadata": {},
   "outputs": [],
   "source": [
    "# df_1 = df[df['sommet'] == 'Dent Parrachée']\n",
    "# df_2 = df[df['sommet'] == 'La Norma']"
   ]
  },
  {
   "cell_type": "code",
   "execution_count": 6,
   "metadata": {},
   "outputs": [
    {
     "data": {
      "text/html": [
       "<div>\n",
       "<style scoped>\n",
       "    .dataframe tbody tr th:only-of-type {\n",
       "        vertical-align: middle;\n",
       "    }\n",
       "\n",
       "    .dataframe tbody tr th {\n",
       "        vertical-align: top;\n",
       "    }\n",
       "\n",
       "    .dataframe thead th {\n",
       "        text-align: right;\n",
       "    }\n",
       "</style>\n",
       "<table border=\"1\" class=\"dataframe\">\n",
       "  <thead>\n",
       "    <tr style=\"text-align: right;\">\n",
       "      <th></th>\n",
       "      <th>id</th>\n",
       "      <th>sommet</th>\n",
       "      <th>date</th>\n",
       "    </tr>\n",
       "  </thead>\n",
       "  <tbody>\n",
       "    <tr>\n",
       "      <th>91</th>\n",
       "      <td>1639300068475</td>\n",
       "      <td>La Norma</td>\n",
       "      <td>2021-12-10 23:00:00</td>\n",
       "    </tr>\n",
       "    <tr>\n",
       "      <th>239</th>\n",
       "      <td>1617554382779</td>\n",
       "      <td>La Norma</td>\n",
       "      <td>2021-04-03 22:00:00</td>\n",
       "    </tr>\n",
       "    <tr>\n",
       "      <th>290</th>\n",
       "      <td>1616661015022</td>\n",
       "      <td>La Norma</td>\n",
       "      <td>2021-03-22 23:00:00</td>\n",
       "    </tr>\n",
       "    <tr>\n",
       "      <th>331</th>\n",
       "      <td>1616184796178</td>\n",
       "      <td>La Norma</td>\n",
       "      <td>2021-03-18 23:00:00</td>\n",
       "    </tr>\n",
       "    <tr>\n",
       "      <th>338</th>\n",
       "      <td>1616140698621</td>\n",
       "      <td>La Norma</td>\n",
       "      <td>2021-03-18 23:00:00</td>\n",
       "    </tr>\n",
       "  </tbody>\n",
       "</table>\n",
       "</div>"
      ],
      "text/plain": [
       "                id    sommet                date\n",
       "91   1639300068475  La Norma 2021-12-10 23:00:00\n",
       "239  1617554382779  La Norma 2021-04-03 22:00:00\n",
       "290  1616661015022  La Norma 2021-03-22 23:00:00\n",
       "331  1616184796178  La Norma 2021-03-18 23:00:00\n",
       "338  1616140698621  La Norma 2021-03-18 23:00:00"
      ]
     },
     "execution_count": 6,
     "metadata": {},
     "output_type": "execute_result"
    }
   ],
   "source": [
    "df['date'] = df.date.apply(lambda d: pd.to_datetime(d, unit='ms'))\n",
    "df = df[df['date'] > datetime.datetime(2005, 9, 30)]\n",
    "df.head()"
   ]
  },
  {
   "cell_type": "code",
   "execution_count": 7,
   "metadata": {},
   "outputs": [],
   "source": [
    "def create_new_dates(d):\n",
    "    day = datetime.timedelta(days=1)\n",
    "    d = d.replace(hour=0, minute=0, second=0, microsecond=0)\n",
    "\n",
    "    return [\n",
    "        d - 3 * day,\n",
    "        d - 2 * day,\n",
    "        d - day,\n",
    "        d,\n",
    "        d + day,\n",
    "        d + 2 * day,\n",
    "        d + 3 * day,\n",
    "    ]\n",
    "\n",
    "df['date'] = df.date.apply(lambda d: create_new_dates(d))\n",
    "df = df.explode('date')"
   ]
  },
  {
   "cell_type": "code",
   "execution_count": 8,
   "metadata": {},
   "outputs": [],
   "source": [
    "df['avalanche'] = 1"
   ]
  },
  {
   "cell_type": "code",
   "execution_count": 9,
   "metadata": {},
   "outputs": [
    {
     "data": {
      "text/html": [
       "<div>\n",
       "<style scoped>\n",
       "    .dataframe tbody tr th:only-of-type {\n",
       "        vertical-align: middle;\n",
       "    }\n",
       "\n",
       "    .dataframe tbody tr th {\n",
       "        vertical-align: top;\n",
       "    }\n",
       "\n",
       "    .dataframe thead th {\n",
       "        text-align: right;\n",
       "    }\n",
       "</style>\n",
       "<table border=\"1\" class=\"dataframe\">\n",
       "  <thead>\n",
       "    <tr style=\"text-align: right;\">\n",
       "      <th></th>\n",
       "      <th>id</th>\n",
       "      <th>sommet</th>\n",
       "      <th>date</th>\n",
       "      <th>avalanche</th>\n",
       "    </tr>\n",
       "  </thead>\n",
       "  <tbody>\n",
       "    <tr>\n",
       "      <th>91</th>\n",
       "      <td>1639300068475</td>\n",
       "      <td>La Norma</td>\n",
       "      <td>2021-12-07</td>\n",
       "      <td>1</td>\n",
       "    </tr>\n",
       "    <tr>\n",
       "      <th>91</th>\n",
       "      <td>1639300068475</td>\n",
       "      <td>La Norma</td>\n",
       "      <td>2021-12-08</td>\n",
       "      <td>1</td>\n",
       "    </tr>\n",
       "    <tr>\n",
       "      <th>91</th>\n",
       "      <td>1639300068475</td>\n",
       "      <td>La Norma</td>\n",
       "      <td>2021-12-09</td>\n",
       "      <td>1</td>\n",
       "    </tr>\n",
       "    <tr>\n",
       "      <th>91</th>\n",
       "      <td>1639300068475</td>\n",
       "      <td>La Norma</td>\n",
       "      <td>2021-12-10</td>\n",
       "      <td>1</td>\n",
       "    </tr>\n",
       "    <tr>\n",
       "      <th>91</th>\n",
       "      <td>1639300068475</td>\n",
       "      <td>La Norma</td>\n",
       "      <td>2021-12-11</td>\n",
       "      <td>1</td>\n",
       "    </tr>\n",
       "  </tbody>\n",
       "</table>\n",
       "</div>"
      ],
      "text/plain": [
       "               id    sommet       date  avalanche\n",
       "91  1639300068475  La Norma 2021-12-07          1\n",
       "91  1639300068475  La Norma 2021-12-08          1\n",
       "91  1639300068475  La Norma 2021-12-09          1\n",
       "91  1639300068475  La Norma 2021-12-10          1\n",
       "91  1639300068475  La Norma 2021-12-11          1"
      ]
     },
     "execution_count": 9,
     "metadata": {},
     "output_type": "execute_result"
    }
   ],
   "source": [
    "df.head()"
   ]
  },
  {
   "cell_type": "code",
   "execution_count": 10,
   "metadata": {},
   "outputs": [],
   "source": [
    "zdf = pd.date_range(\n",
    "    start='2005-01-20', \n",
    "    end='2022-01-26', \n",
    "    freq='D',\n",
    "    name='date')"
   ]
  },
  {
   "cell_type": "code",
   "execution_count": 11,
   "metadata": {},
   "outputs": [],
   "source": [
    "zdf = zdf.to_frame(index=False, name='date')#.set_index('date')\n",
    "zdf['avalanche'] = 0"
   ]
  },
  {
   "cell_type": "code",
   "execution_count": 12,
   "metadata": {},
   "outputs": [
    {
     "data": {
      "text/html": [
       "<div>\n",
       "<style scoped>\n",
       "    .dataframe tbody tr th:only-of-type {\n",
       "        vertical-align: middle;\n",
       "    }\n",
       "\n",
       "    .dataframe tbody tr th {\n",
       "        vertical-align: top;\n",
       "    }\n",
       "\n",
       "    .dataframe thead th {\n",
       "        text-align: right;\n",
       "    }\n",
       "</style>\n",
       "<table border=\"1\" class=\"dataframe\">\n",
       "  <thead>\n",
       "    <tr style=\"text-align: right;\">\n",
       "      <th></th>\n",
       "      <th>date</th>\n",
       "      <th>avalanche</th>\n",
       "    </tr>\n",
       "  </thead>\n",
       "  <tbody>\n",
       "    <tr>\n",
       "      <th>0</th>\n",
       "      <td>2005-01-20</td>\n",
       "      <td>0</td>\n",
       "    </tr>\n",
       "    <tr>\n",
       "      <th>1</th>\n",
       "      <td>2005-01-21</td>\n",
       "      <td>0</td>\n",
       "    </tr>\n",
       "    <tr>\n",
       "      <th>2</th>\n",
       "      <td>2005-01-22</td>\n",
       "      <td>0</td>\n",
       "    </tr>\n",
       "    <tr>\n",
       "      <th>3</th>\n",
       "      <td>2005-01-23</td>\n",
       "      <td>0</td>\n",
       "    </tr>\n",
       "    <tr>\n",
       "      <th>4</th>\n",
       "      <td>2005-01-24</td>\n",
       "      <td>0</td>\n",
       "    </tr>\n",
       "    <tr>\n",
       "      <th>...</th>\n",
       "      <td>...</td>\n",
       "      <td>...</td>\n",
       "    </tr>\n",
       "    <tr>\n",
       "      <th>6211</th>\n",
       "      <td>2022-01-22</td>\n",
       "      <td>0</td>\n",
       "    </tr>\n",
       "    <tr>\n",
       "      <th>6212</th>\n",
       "      <td>2022-01-23</td>\n",
       "      <td>0</td>\n",
       "    </tr>\n",
       "    <tr>\n",
       "      <th>6213</th>\n",
       "      <td>2022-01-24</td>\n",
       "      <td>0</td>\n",
       "    </tr>\n",
       "    <tr>\n",
       "      <th>6214</th>\n",
       "      <td>2022-01-25</td>\n",
       "      <td>0</td>\n",
       "    </tr>\n",
       "    <tr>\n",
       "      <th>6215</th>\n",
       "      <td>2022-01-26</td>\n",
       "      <td>0</td>\n",
       "    </tr>\n",
       "  </tbody>\n",
       "</table>\n",
       "<p>6216 rows × 2 columns</p>\n",
       "</div>"
      ],
      "text/plain": [
       "           date  avalanche\n",
       "0    2005-01-20          0\n",
       "1    2005-01-21          0\n",
       "2    2005-01-22          0\n",
       "3    2005-01-23          0\n",
       "4    2005-01-24          0\n",
       "...         ...        ...\n",
       "6211 2022-01-22          0\n",
       "6212 2022-01-23          0\n",
       "6213 2022-01-24          0\n",
       "6214 2022-01-25          0\n",
       "6215 2022-01-26          0\n",
       "\n",
       "[6216 rows x 2 columns]"
      ]
     },
     "execution_count": 12,
     "metadata": {},
     "output_type": "execute_result"
    }
   ],
   "source": [
    "zdf"
   ]
  },
  {
   "cell_type": "code",
   "execution_count": 13,
   "metadata": {},
   "outputs": [],
   "source": [
    "df_1 = df[df['sommet'] == PEAK]\n",
    "avalanche_days = df_1['date'].apply(lambda d: d.date())\n"
   ]
  },
  {
   "cell_type": "code",
   "execution_count": 14,
   "metadata": {},
   "outputs": [
    {
     "data": {
      "text/plain": [
       "91      2021-12-07\n",
       "91      2021-12-08\n",
       "91      2021-12-09\n",
       "91      2021-12-10\n",
       "91      2021-12-11\n",
       "           ...    \n",
       "3080    2011-03-18\n",
       "3080    2011-03-19\n",
       "3080    2011-03-20\n",
       "3080    2011-03-21\n",
       "3080    2011-03-22\n",
       "Name: date, Length: 245, dtype: object"
      ]
     },
     "execution_count": 14,
     "metadata": {},
     "output_type": "execute_result"
    }
   ],
   "source": [
    "avalanche_days"
   ]
  },
  {
   "cell_type": "code",
   "execution_count": 15,
   "metadata": {},
   "outputs": [],
   "source": [
    "avd = avalanche_days.to_list()"
   ]
  },
  {
   "cell_type": "code",
   "execution_count": 16,
   "metadata": {},
   "outputs": [
    {
     "data": {
      "text/plain": [
       "<bound method NDFrame.describe of            date  avalanche\n",
       "0    2005-01-20          0\n",
       "1    2005-01-21          0\n",
       "2    2005-01-22          0\n",
       "3    2005-01-23          0\n",
       "4    2005-01-24          0\n",
       "...         ...        ...\n",
       "6211 2022-01-22          0\n",
       "6212 2022-01-23          0\n",
       "6213 2022-01-24          0\n",
       "6214 2022-01-25          0\n",
       "6215 2022-01-26          0\n",
       "\n",
       "[6216 rows x 2 columns]>"
      ]
     },
     "execution_count": 16,
     "metadata": {},
     "output_type": "execute_result"
    }
   ],
   "source": [
    "df_1 = zdf.copy()\n",
    "df_1['avalanche'] = df_1.date.apply(lambda d: int(d in avd))\n",
    "\n",
    "\n",
    "df_1.describe"
   ]
  },
  {
   "cell_type": "code",
   "execution_count": 17,
   "metadata": {},
   "outputs": [],
   "source": [
    "def adjusts_resolution(d):\n",
    "    hour = datetime.timedelta(hours=1)\n",
    "    hours = [int((d + i * hour).timestamp()) for i in range(24)]\n",
    "\n",
    "    return hours"
   ]
  },
  {
   "cell_type": "code",
   "execution_count": 18,
   "metadata": {},
   "outputs": [
    {
     "data": {
      "text/html": [
       "<div>\n",
       "<style scoped>\n",
       "    .dataframe tbody tr th:only-of-type {\n",
       "        vertical-align: middle;\n",
       "    }\n",
       "\n",
       "    .dataframe tbody tr th {\n",
       "        vertical-align: top;\n",
       "    }\n",
       "\n",
       "    .dataframe thead th {\n",
       "        text-align: right;\n",
       "    }\n",
       "</style>\n",
       "<table border=\"1\" class=\"dataframe\">\n",
       "  <thead>\n",
       "    <tr style=\"text-align: right;\">\n",
       "      <th></th>\n",
       "      <th>date</th>\n",
       "      <th>avalanche</th>\n",
       "      <th>dt</th>\n",
       "    </tr>\n",
       "  </thead>\n",
       "  <tbody>\n",
       "    <tr>\n",
       "      <th>0</th>\n",
       "      <td>2005-01-20</td>\n",
       "      <td>0</td>\n",
       "      <td>1106179200</td>\n",
       "    </tr>\n",
       "    <tr>\n",
       "      <th>0</th>\n",
       "      <td>2005-01-20</td>\n",
       "      <td>0</td>\n",
       "      <td>1106182800</td>\n",
       "    </tr>\n",
       "    <tr>\n",
       "      <th>0</th>\n",
       "      <td>2005-01-20</td>\n",
       "      <td>0</td>\n",
       "      <td>1106186400</td>\n",
       "    </tr>\n",
       "    <tr>\n",
       "      <th>0</th>\n",
       "      <td>2005-01-20</td>\n",
       "      <td>0</td>\n",
       "      <td>1106190000</td>\n",
       "    </tr>\n",
       "    <tr>\n",
       "      <th>0</th>\n",
       "      <td>2005-01-20</td>\n",
       "      <td>0</td>\n",
       "      <td>1106193600</td>\n",
       "    </tr>\n",
       "    <tr>\n",
       "      <th>...</th>\n",
       "      <td>...</td>\n",
       "      <td>...</td>\n",
       "      <td>...</td>\n",
       "    </tr>\n",
       "    <tr>\n",
       "      <th>3</th>\n",
       "      <td>2005-01-23</td>\n",
       "      <td>0</td>\n",
       "      <td>1106521200</td>\n",
       "    </tr>\n",
       "    <tr>\n",
       "      <th>4</th>\n",
       "      <td>2005-01-24</td>\n",
       "      <td>0</td>\n",
       "      <td>1106524800</td>\n",
       "    </tr>\n",
       "    <tr>\n",
       "      <th>4</th>\n",
       "      <td>2005-01-24</td>\n",
       "      <td>0</td>\n",
       "      <td>1106528400</td>\n",
       "    </tr>\n",
       "    <tr>\n",
       "      <th>4</th>\n",
       "      <td>2005-01-24</td>\n",
       "      <td>0</td>\n",
       "      <td>1106532000</td>\n",
       "    </tr>\n",
       "    <tr>\n",
       "      <th>4</th>\n",
       "      <td>2005-01-24</td>\n",
       "      <td>0</td>\n",
       "      <td>1106535600</td>\n",
       "    </tr>\n",
       "  </tbody>\n",
       "</table>\n",
       "<p>100 rows × 3 columns</p>\n",
       "</div>"
      ],
      "text/plain": [
       "         date  avalanche          dt\n",
       "0  2005-01-20          0  1106179200\n",
       "0  2005-01-20          0  1106182800\n",
       "0  2005-01-20          0  1106186400\n",
       "0  2005-01-20          0  1106190000\n",
       "0  2005-01-20          0  1106193600\n",
       "..        ...        ...         ...\n",
       "3  2005-01-23          0  1106521200\n",
       "4  2005-01-24          0  1106524800\n",
       "4  2005-01-24          0  1106528400\n",
       "4  2005-01-24          0  1106532000\n",
       "4  2005-01-24          0  1106535600\n",
       "\n",
       "[100 rows x 3 columns]"
      ]
     },
     "execution_count": 18,
     "metadata": {},
     "output_type": "execute_result"
    }
   ],
   "source": [
    "df_2 = df_1.copy()\n",
    "df_2['dt'] = df_2.date.apply(adjusts_resolution)\n",
    "df_2 = df_2.explode('dt')\n",
    "df_2.head(100)"
   ]
  },
  {
   "cell_type": "code",
   "execution_count": 19,
   "metadata": {},
   "outputs": [],
   "source": [
    "weather_csv = DATA_DIR / 'weather' / WEATHER_CSV"
   ]
  },
  {
   "cell_type": "code",
   "execution_count": 20,
   "metadata": {},
   "outputs": [],
   "source": [
    "weather_df = pd.read_csv(weather_csv)"
   ]
  },
  {
   "cell_type": "code",
   "execution_count": 21,
   "metadata": {},
   "outputs": [],
   "source": [
    "avalanche_df = df_2.merge(weather_df, on='dt', how='left')"
   ]
  },
  {
   "cell_type": "code",
   "execution_count": 22,
   "metadata": {},
   "outputs": [],
   "source": [
    "avalanche_df.to_csv(DATA_DIR / 'weather' / PEAK_NUMBER / 'avalanche_weather.csv', index=False)"
   ]
  },
  {
   "cell_type": "code",
   "execution_count": 23,
   "metadata": {},
   "outputs": [
    {
     "name": "stdout",
     "output_type": "stream",
     "text": [
      "2005\n",
      "2006\n",
      "2007\n",
      "2008\n",
      "2009\n",
      "2010\n",
      "2011\n",
      "2012\n",
      "2013\n",
      "2014\n",
      "2015\n",
      "2016\n",
      "2017\n",
      "2018\n",
      "2019\n",
      "2020\n",
      "2021\n"
     ]
    }
   ],
   "source": [
    "# split for seasons\n",
    "\n",
    "for i in range(2005, 2022):\n",
    "    season_start = datetime.datetime(i, 9, 30)\n",
    "    season_stop = datetime.datetime(i+1, 6, 1)\n",
    "\n",
    "    df_season = avalanche_df[(avalanche_df['date'] > season_start) & (avalanche_df['date'] < season_stop)]\n",
    "    df_season.to_csv(DATA_DIR / 'weather' / PEAK_NUMBER / f'{i}_avalanche_weather.csv', index=False)\n",
    "    print(i)"
   ]
  },
  {
   "cell_type": "code",
   "execution_count": null,
   "metadata": {},
   "outputs": [],
   "source": []
  },
  {
   "cell_type": "code",
   "execution_count": null,
   "metadata": {},
   "outputs": [],
   "source": []
  }
 ],
 "metadata": {
  "interpreter": {
   "hash": "132dca5bb89584ffb881df930acd932488dbcc81fd3b3944df88f4bf7ff15bef"
  },
  "kernelspec": {
   "display_name": "Python 3.8.12 64-bit ('huhuha': pyenv)",
   "language": "python",
   "name": "python3"
  },
  "language_info": {
   "codemirror_mode": {
    "name": "ipython",
    "version": 3
   },
   "file_extension": ".py",
   "mimetype": "text/x-python",
   "name": "python",
   "nbconvert_exporter": "python",
   "pygments_lexer": "ipython3",
   "version": "3.8.12"
  },
  "orig_nbformat": 4
 },
 "nbformat": 4,
 "nbformat_minor": 2
}
