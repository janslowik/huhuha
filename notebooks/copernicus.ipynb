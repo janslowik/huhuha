{
 "cells": [
  {
   "cell_type": "code",
   "execution_count": 2,
   "metadata": {},
   "outputs": [],
   "source": [
    "###########################################################\n",
    "## findIndex\n",
    "# Find the HV tile number and row, column index for a given plate\n",
    "# carree location for 1km Copernicus Global Land products\n",
    "#\n",
    "# @attention: no error handling performed, assume correct lon, lat value\n",
    "#\n",
    "# @param  lon  (float)    Longitude position\n",
    "# @param  lat  (float)    Latitude position\n",
    "# @param  reso (int)     Resolution 1 = 112 pixels/degree (1km), \n",
    "#                                  3 = 3 * 112 pixels / degree (333m)\n",
    "#\n",
    "# @return   xtile  Number representing Horizontal 10° tile index\n",
    "# @return   ytile  Number representing Vertical 10° tile index\n",
    "# @return   idx    Row number in 10° tile (count starts from zero)\n",
    "# @return   idy    Column number in 10° tile (count starts from zero)\n",
    "#\n",
    "def findIndex(lon, lat, reso):\n",
    "        PIXRES = 112.0*reso\n",
    "        HALFPIX = PIXRES*2.\n",
    "        if reso == 1:\n",
    "            TOP = 90.0\n",
    "            NBPIX = 1121\n",
    "        elif reso == 3:\n",
    "            TOP = 75.0\n",
    "            NBPIX = 3360\n",
    "        else:\n",
    "            print('Unsupported resolution, only 1 (1km) or 3 (333m)')\n",
    "            return -1, -1, -1, -1\n",
    "    \n",
    "        TOPY=TOP+1./HALFPIX    \n",
    "        TOPX=-180-1./HALFPIX  \n",
    "        #Arrays of pixel TL corner coordinates of first pixel, for each tile\n",
    "        tileXStart=[-180+(i*10)-(1./HALFPIX) for i in range(37)]    #or tileXStart=numpy.arange(-180,180,10)-1/224.0\n",
    "        tileYStart=[TOP-(i*10)+(1./HALFPIX) for i in range(19)]\n",
    "       \n",
    "        #Tile number, 0-based\n",
    "        Xtile= (int((lon-TOPX)/10))\n",
    "        Ytile= (int( (TOPY - lat)/10))\n",
    " \n",
    "        #correct wrap around, do not favor pixel 1121 if 1km\n",
    "        if Xtile == 36:\n",
    "            Xtile = 00\n",
    "            lon = -180.\n",
    "        if Ytile == 18:\n",
    "            Ytile = 00\n",
    "            lat = 90.\n",
    " \n",
    "        #Pixel index (count), also 0-based\n",
    "        \n",
    "        Xidx=int((lon-tileXStart[Xtile])*PIXRES)\n",
    "        Yidx=int((tileYStart[Ytile]-lat)*PIXRES)\n",
    " \n",
    "        return (Xtile, Ytile, Xidx, Yidx)"
   ]
  },
  {
   "cell_type": "code",
   "execution_count": 3,
   "metadata": {},
   "outputs": [
    {
     "data": {
      "text/plain": [
       "(18, 4, 745, 541)"
      ]
     },
     "execution_count": 3,
     "metadata": {},
     "output_type": "execute_result"
    }
   ],
   "source": [
    "findIndex(6.65, 45.17,1)"
   ]
  },
  {
   "cell_type": "code",
   "execution_count": 4,
   "metadata": {},
   "outputs": [
    {
     "data": {
      "text/plain": [
       "(22, 8, 579, 375)"
      ]
     },
     "execution_count": 4,
     "metadata": {},
     "output_type": "execute_result"
    }
   ],
   "source": [
    "findIndex( 45.17,6.65,  1)"
   ]
  },
  {
   "cell_type": "code",
   "execution_count": null,
   "metadata": {},
   "outputs": [],
   "source": []
  }
 ],
 "metadata": {
  "interpreter": {
   "hash": "132dca5bb89584ffb881df930acd932488dbcc81fd3b3944df88f4bf7ff15bef"
  },
  "kernelspec": {
   "display_name": "Python 3.8.12 64-bit ('huhuha': pyenv)",
   "language": "python",
   "name": "python3"
  },
  "language_info": {
   "codemirror_mode": {
    "name": "ipython",
    "version": 3
   },
   "file_extension": ".py",
   "mimetype": "text/x-python",
   "name": "python",
   "nbconvert_exporter": "python",
   "pygments_lexer": "ipython3",
   "version": "3.8.12"
  },
  "orig_nbformat": 4
 },
 "nbformat": 4,
 "nbformat_minor": 2
}
